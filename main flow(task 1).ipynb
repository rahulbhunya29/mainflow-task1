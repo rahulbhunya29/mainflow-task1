{
 "cells": [
  {
   "cell_type": "code",
   "execution_count": 1,
   "id": "680a41fd-9397-4de9-9c39-9cc34ae2289a",
   "metadata": {},
   "outputs": [
    {
     "name": "stdout",
     "output_type": "stream",
     "text": [
      "Updated List: [100, 30, 40, 50, 60]\n"
     ]
    }
   ],
   "source": [
    "#creat a list\n",
    "my_list = [10,20,30,40,50]\n",
    "\n",
    "#Adding an element to the list\n",
    "my_list.append(60)\n",
    "\n",
    "#Removing on element from the list\n",
    "my_list.remove(20)\n",
    "\n",
    "#Modifying on element in the list \n",
    "my_list[0] = 100\n",
    "\n",
    "print(\"Updated List:\" , my_list)"
   ]
  },
  {
   "cell_type": "code",
   "execution_count": 2,
   "id": "a3a00586-a896-4ddd-a200-67eec0225c85",
   "metadata": {},
   "outputs": [
    {
     "name": "stdout",
     "output_type": "stream",
     "text": [
      "Updated Dictionary: {'name': 'Rahul', 'city': 'Kolkata', 'gender': 'Male'}\n"
     ]
    }
   ],
   "source": [
    "#Creating a dictionary \n",
    "my_dict = {'name': 'Rahul','age': 28, 'city':'Delhi'}\n",
    "\n",
    "#Adding \n",
    "my_dict['gender'] = 'Male'\n",
    "\n",
    "#Removing \n",
    "del my_dict['age']\n",
    "\n",
    "#Modifying \n",
    "my_dict['city'] = 'Kolkata'\n",
    "\n",
    "print(\"Updated Dictionary:\", my_dict)"
   ]
  },
  {
   "cell_type": "code",
   "execution_count": 3,
   "id": "fd1a9cc1-18e1-4679-be15-f016862c598e",
   "metadata": {},
   "outputs": [
    {
     "name": "stdout",
     "output_type": "stream",
     "text": [
      "Updated Set: {50, 100, 40, 60, 30}\n"
     ]
    }
   ],
   "source": [
    "#Creating a set\n",
    "my_set = {10,20,30,40,50}\n",
    "\n",
    "#Adding\n",
    "my_set.add(60)\n",
    "\n",
    "#Removing\n",
    "my_set.remove(20)\n",
    "\n",
    "#Modifying\n",
    "my_set.discard(10)\n",
    "my_set.add(100)\n",
    "\n",
    "print(\"Updated Set:\" , my_set)"
   ]
  },
  {
   "cell_type": "code",
   "execution_count": null,
   "id": "9d19c1f1-ffd7-42f9-a536-81f3c24358da",
   "metadata": {},
   "outputs": [],
   "source": []
  }
 ],
 "metadata": {
  "kernelspec": {
   "display_name": "Python 3 (ipykernel)",
   "language": "python",
   "name": "python3"
  },
  "language_info": {
   "codemirror_mode": {
    "name": "ipython",
    "version": 3
   },
   "file_extension": ".py",
   "mimetype": "text/x-python",
   "name": "python",
   "nbconvert_exporter": "python",
   "pygments_lexer": "ipython3",
   "version": "3.12.4"
  },
  "widgets": {
   "application/vnd.jupyter.widget-state+json": {
    "state": {},
    "version_major": 2,
    "version_minor": 0
   }
  }
 },
 "nbformat": 4,
 "nbformat_minor": 5
}
